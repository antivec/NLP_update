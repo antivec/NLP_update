{
 "cells": [
  {
   "cell_type": "code",
   "execution_count": 219,
   "metadata": {},
   "outputs": [],
   "source": [
    "import pandas as pd\n",
    "import numpy as np\n",
    "from sklearn.pipeline import Pipeline\n",
    "from sklearn.feature_extraction.text import TfidfVectorizer\n",
    "from sklearn.calibration import CalibratedClassifierCV\n",
    "from sklearn.linear_model import SGDClassifier\n",
    "from sklearn.metrics import recall_score\n",
    "from sklearn.metrics import f1_score\n",
    "from sklearn.neighbors import KNeighborsClassifier\n",
    "from imblearn.over_sampling import SMOTE\n",
    "from imblearn.under_sampling import EditedNearestNeighbours\n",
    "from sklearn.model_selection import KFold\n",
    "import numpy as np\n",
    "import matplotlib.pyplot as plt\n",
    "import warnings\n",
    "from sklearn.linear_model import LogisticRegression\n",
    "from sklearn.metrics import precision_score\n",
    "from sklearn.metrics import confusion_matrix\n",
    "from sklearn.metrics import roc_auc_score\n",
    "from sklearn.base import clone\n",
    "import pickle\n",
    "\n",
    "warnings.filterwarnings(\"ignore\")\n",
    "\n",
    "%matplotlib inline"
   ]
  },
  {
   "cell_type": "code",
   "execution_count": 220,
   "metadata": {},
   "outputs": [],
   "source": [
    "data = pd.read_csv('filtered_movieData(9800).csv',encoding = \"ISO-8859-1\")"
   ]
  },
  {
   "cell_type": "code",
   "execution_count": 221,
   "metadata": {},
   "outputs": [],
   "source": [
    "vectorizer = {'tfidf':TfidfVectorizer()}\n",
    "##term frequency - inverse document frequency \n",
    "classifier = {'ClassifierCV':KNeighborsClassifier(weights = 'distance'), #CalibratedClassifierCV()\n",
    "              'logistic_regression': LogisticRegression(multi_class=\"multinomial\")\n",
    "             }\n",
    "\n",
    "genres = data.Genres.value_counts().reset_index()['index']"
   ]
  },
  {
   "cell_type": "code",
   "execution_count": 222,
   "metadata": {
    "scrolled": true
   },
   "outputs": [],
   "source": [
    "max_num = len(data.Overview)\n",
    "for i in range(max_num):\n",
    "        if type(data.Overview[i]) == float:\n",
    "            data.Overview[i] = \"none\""
   ]
  },
  {
   "cell_type": "code",
   "execution_count": 223,
   "metadata": {},
   "outputs": [],
   "source": [
    "n_vec = len(vectorizer)\n",
    "n_clf = len(classifier)\n",
    "\n",
    "n_iter = n_vec * n_clf"
   ]
  },
  {
   "cell_type": "code",
   "execution_count": 226,
   "metadata": {},
   "outputs": [],
   "source": [
    "for genre in genres[:9]:\n",
    "    data['genre_y'] = [1 if y == genre else 0 for y in data['Genres']]\n",
    "    k = 1\n",
    "    for vect_name, vect in vectorizer.items():\n",
    "        for clf_name, clf in classifier.items():\n",
    "#           print(genre.upper() + ' [' + str(k) + '/' +str(n_iter) + ']: ' + vect_name + ' - ' + clf_name )\n",
    "            kf = KFold(n_splits=5, random_state=None, shuffle=False)\n",
    "            pipe = Pipeline([('vect', vect), ('clf', clf)])\n",
    "            \n",
    "            acc = []\n",
    "            prec = []\n",
    "            rec = []\n",
    "            f1 = []\n",
    "            for train_index, test_index in kf.split(data):        \n",
    "                x_train, y_train = data.Overview.iloc[train_index], data.genre_y.iloc[train_index]\n",
    "                x_test, y_test = data.Overview.iloc[test_index], data.genre_y.iloc[test_index]\n",
    "                pipe.fit(x_train, y_train)\n",
    "                y_pred = pipe.predict(x_test)\n",
    "                acc.append(np.mean(y_pred==y_test))\n",
    "                prec.append(precision_score(y_test, y_pred))\n",
    "                rec.append(recall_score(y_test, y_pred))\n",
    "                f1.append(f1_score(y_test, y_pred))\n",
    "            k+=1\n"
   ]
  },
  {
   "cell_type": "code",
   "execution_count": 227,
   "metadata": {
    "scrolled": true
   },
   "outputs": [
    {
     "name": "stdout",
     "output_type": "stream",
     "text": [
      "Action ('tfidf', 'ClassifierCV', 'normal')\n",
      "Drama ('tfidf', 'ClassifierCV', 'normal')\n",
      "Comedy ('tfidf', 'ClassifierCV', 'normal')\n",
      "Horror ('tfidf', 'ClassifierCV', 'normal')\n",
      "Animation ('tfidf', 'ClassifierCV', 'normal')\n",
      "Adventure ('tfidf', 'ClassifierCV', 'normal')\n",
      "Thriller ('tfidf', 'ClassifierCV', 'normal')\n",
      "Crime ('tfidf', 'ClassifierCV', 'normal')\n",
      "Science Fiction ('tfidf', 'ClassifierCV', 'normal')\n"
     ]
    }
   ],
   "source": [
    "n_vec = len(vectorizer)\n",
    "n_clf = len(classifier)\n",
    "\n",
    "n_iterations = n_vec*n_clf\n",
    "\n",
    "temp = data.copy()\n",
    "\n",
    "test_result = {}\n",
    "\n",
    "for genre in genres[:9]:\n",
    "    temp['genre_y'] = [1 if y == genre else 0 for y in temp['Genres']]\n",
    "    k = 1\n",
    "    final_score = {}\n",
    "    for vect_name, vect in vectorizer.items():\n",
    "        for clf_name, clf in classifier.items():\n",
    "            kf = KFold(n_splits=5, random_state=None, shuffle=False)\n",
    "            \n",
    "            acc_normal = []\n",
    "            prec_normal = []\n",
    "            rec_normal = []\n",
    "            f1_normal = []\n",
    "            auc_normal = []\n",
    "            \n",
    "            acc_over = []\n",
    "            prec_over = []\n",
    "            rec_over = []\n",
    "            f1_over = []\n",
    "            auc_over = []\n",
    "            \n",
    "            acc_under = []\n",
    "            prec_under = []\n",
    "            rec_under = []\n",
    "            f1_under = []\n",
    "            auc_under = []\n",
    "            \n",
    "            i = 1\n",
    "            x, y = temp.Overview, temp.genre_y\n",
    "            for train_index, test_index in kf.split(data):\n",
    "                x_train, y_train = x.iloc[train_index], y.iloc[train_index]\n",
    "                x_test, y_test = x.iloc[test_index], y.iloc[test_index]\n",
    "                \n",
    "                train_vect = vect.fit_transform(x_train)\n",
    "             \n",
    "                clf.fit(train_vect, y_train)\n",
    "                \n",
    "                test_vect = vect.transform(x_test)\n",
    "                y_pred = clf.predict(test_vect)\n",
    "\n",
    "                acc_normal.append(np.mean(y_pred==y_test))\n",
    "                prec_normal.append(precision_score(y_test, y_pred))\n",
    "                rec_normal.append(recall_score(y_test, y_pred))\n",
    "                f1_normal.append(f1_score(y_test, y_pred))\n",
    "                auc_normal.append(roc_auc_score(y_test, y_pred))\n",
    "\n",
    "                \n",
    "                train_vect_over, y_train_over = SMOTE().fit_resample(train_vect, y_train) \n",
    "                clf.fit(train_vect_over, y_train_over)\n",
    "                \n",
    "                test_vect = vect.transform(x_test)\n",
    "                y_pred = clf.predict(test_vect)\n",
    "\n",
    "                acc_over.append(np.mean(y_pred==y_test))\n",
    "                prec_over.append(precision_score(y_test, y_pred))\n",
    "                rec_over.append(recall_score(y_test, y_pred))\n",
    "                f1_over.append(f1_score(y_test, y_pred))\n",
    "                auc_over.append(roc_auc_score(y_test, y_pred))\n",
    "                #print('Overfitting: iteration ' + str(i) + ': ')\n",
    "                \n",
    "                train_vect_under, y_train_under = EditedNearestNeighbours().fit_resample(train_vect, y_train) \n",
    "                clf.fit(train_vect_under, y_train_under)\n",
    "                \n",
    "                test_vect = vect.transform(x_test)\n",
    "                y_pred = clf.predict(test_vect)\n",
    "\n",
    "                acc_under.append(np.mean(y_pred==y_test))\n",
    "                prec_under.append(precision_score(y_test, y_pred))\n",
    "                rec_under.append(recall_score(y_test, y_pred))\n",
    "                f1_under.append(f1_score(y_test, y_pred))\n",
    "                auc_under.append(roc_auc_score(y_test, y_pred))\n",
    "                i+=1\n",
    "            k+=1\n",
    "            #final_score[(vect_name, clf_name, 'over')] = np.mean(auc_over)\n",
    "            final_score[(vect_name, clf_name, 'normal')] = np.mean(auc_normal)\n",
    "            #final_score[(vect_name, clf_name, 'under')] = np.mean(auc_under)\n",
    "            #print(final_score.keys())\n",
    "    test_result[genre] = max(final_score, key=final_score.get)\n",
    "    print(genre , test_result[genre])"
   ]
  },
  {
   "cell_type": "code",
   "execution_count": 228,
   "metadata": {},
   "outputs": [],
   "source": [
    "pipe_dict = {}\n",
    "for genre in genres[:9]:\n",
    "    data['genre_y'] = [1 if y == genre else 0 for y in data['Genres']]\n",
    "    vect_name = test_result[genre][0]\n",
    "    clf_name = test_result[genre][1]\n",
    "    sampling_name = test_result[genre][2]\n",
    "\n",
    "    vect = clone(vectorizer[vect_name])\n",
    "    clf = clone(classifier[clf_name])\n",
    "    \n",
    "    x_vect = vect.fit_transform(data.Overview)\n",
    "    \n",
    "    if sampling_name == 'normal':\n",
    "        clf.fit(x_vect, data.genre_y)\n",
    "    elif sampling_name == 'over':\n",
    "        x_vect, y = SMOTE().fit_resample(x_vect, data.genre_y)\n",
    "        clf.fit(x_vect, y)\n",
    "    elif sampling_name == 'under':\n",
    "        x_vect, y = EditedNearestNeighbours().fit_resample(x_vect, data.genre_y)\n",
    "        clf.fit(x_vect, y)\n",
    "    pipe_dict[genre] = Pipeline([('vect', vect), ('clf', clf)])"
   ]
  },
  {
   "cell_type": "code",
   "execution_count": 257,
   "metadata": {},
   "outputs": [],
   "source": [
    "def predict_genre(s, pipe_dict):\n",
    "    #s_new = clean_sentence(s)\n",
    "    genre_analyzed = []\n",
    "    proba = []\n",
    "    for genre, pipe in pipe_dict.items():\n",
    "        res = pipe.predict_proba([s])\n",
    "        #print( genre,pipe.predict_proba([s]))\n",
    "        genre_analyzed.append(genre)\n",
    "        proba.append(res[0][1])\n",
    "        genre_idx = np.argmax(proba)\n",
    "    \n",
    "    print(s,\" : \", genre_analyzed[genre_idx], round( max(proba) * 100, 2), \"%\")\n",
    "    data = pd.DataFrame({'genre': genre_analyzed, 'proba': proba})\n",
    "    data = data.sort_values(by='proba', ascending=True)\n",
    "    ax = data.plot(x='genre', y='proba', kind='barh')"
   ]
  },
  {
   "cell_type": "code",
   "execution_count": 267,
   "metadata": {},
   "outputs": [
    {
     "name": "stdout",
     "output_type": "stream",
     "text": [
      "dead  :  Horror 60.86 %\n"
     ]
    },
    {
     "data": {
      "image/png": "[encoded data removed]",
      "text/plain": [
       "<Figure size 432x288 with 1 Axes>"
      ]
     },
     "metadata": {
      "needs_background": "light"
     },
     "output_type": "display_data"
    }
   ],
   "source": [
    "predict_genre(\"dead\", pipe_dict)"
   ]
  },
  {
   "cell_type": "code",
   "execution_count": 265,
   "metadata": {},
   "outputs": [],
   "source": [
    "with open(\"trained_data(normal_fit).txt\",\"wb\") as fw:\n",
    "    pickle.dump(pipe_dict,fw)"
   ]
  },
  {
   "cell_type": "code",
   "execution_count": null,
   "metadata": {},
   "outputs": [],
   "source": []
  }
 ],
 "metadata": {
  "kernelspec": {
   "display_name": "Python 3 (ipykernel)",
   "language": "python",
   "name": "python3"
  },
  "language_info": {
   "codemirror_mode": {
    "name": "ipython",
    "version": 3
   },
   "file_extension": ".py",
   "mimetype": "text/x-python",
   "name": "python",
   "nbconvert_exporter": "python",
   "pygments_lexer": "ipython3",
   "version": "3.9.7"
  }
 },
 "nbformat": 4,
 "nbformat_minor": 2
}
