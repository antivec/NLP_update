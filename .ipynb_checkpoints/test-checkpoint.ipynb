{
 "cells": [
  {
   "cell_type": "code",
   "execution_count": 9,
   "metadata": {},
   "outputs": [],
   "source": [
    "import pickle\n",
    "import numpy as np"
   ]
  },
  {
   "cell_type": "code",
   "execution_count": 31,
   "metadata": {},
   "outputs": [],
   "source": [
    "with open('trained_data2.txt','rb') as f:\n",
    "    trained_9800 = pickle.load(f)\n",
    "with open('trained_data.txt','rb') as f:\n",
    "    trained_5900 = pickle.load(f)"
   ]
  },
  {
   "cell_type": "code",
   "execution_count": 45,
   "metadata": {},
   "outputs": [],
   "source": [
    "def predict_genre(s, pipe_dict):\n",
    "    #s_new = clean_sentence(s)\n",
    "    genre_analyzed = []\n",
    "    proba = []\n",
    "    for genre, pipe in pipe_dict.items():\n",
    "        res = pipe.predict_proba([s])\n",
    "        print( genre,pipe.predict_proba([s]))\n",
    "        genre_analyzed.append(genre)\n",
    "        proba.append(res[0][1])\n",
    "        genre_idx = np.argmax(proba)\n",
    "        \n",
    "    \n",
    "    print(s,\" : \", genre_analyzed[genre_idx], round( max(proba) * 100, 2), \"%\")\n",
    "    "
   ]
  },
  {
   "cell_type": "code",
   "execution_count": 59,
   "metadata": {
    "scrolled": false
   },
   "outputs": [
    {
     "name": "stdout",
     "output_type": "stream",
     "text": [
      "Action [[0.82009507 0.17990493]]\n",
      "Drama [[0.96060795 0.03939205]]\n",
      "Comedy [[0.80245446 0.19754554]]\n",
      "Horror [[0.88546924 0.11453076]]\n",
      "Animation [[0.65873745 0.34126255]]\n",
      "Adventure [[0.98566853 0.01433147]]\n",
      "Thriller [[0.93668446 0.06331554]]\n",
      "Crime [[0.89729646 0.10270354]]\n",
      "Science Fiction [[0.61313961 0.38686039]]\n",
      "sun and moon  :  Science Fiction 38.69 %\n",
      "Action [[0.71128163 0.28871837]]\n",
      "Drama [[0.8327872 0.1672128]]\n",
      "Comedy [[0.51761206 0.48238794]]\n",
      "Adventure [[0.84715046 0.15284954]]\n",
      "Horror [[0.71127255 0.28872745]]\n",
      "Thriller [[0.81256137 0.18743863]]\n",
      "Animation [[0.1584247 0.8415753]]\n",
      "Crime [[0.58366641 0.41633359]]\n",
      "Science Fiction [[0.03426478 0.96573522]]\n",
      "sun and moon  :  Science Fiction 96.57 %\n"
     ]
    }
   ],
   "source": [
    "predict_genre(\"sun and moon\",trained_9800)\n",
    "predict_genre(\"sun and moon\",trained_5900)"
   ]
  },
  {
   "cell_type": "code",
   "execution_count": null,
   "metadata": {},
   "outputs": [],
   "source": []
  }
 ],
 "metadata": {
  "kernelspec": {
   "display_name": "Python 3 (ipykernel)",
   "language": "python",
   "name": "python3"
  },
  "language_info": {
   "codemirror_mode": {
    "name": "ipython",
    "version": 3
   },
   "file_extension": ".py",
   "mimetype": "text/x-python",
   "name": "python",
   "nbconvert_exporter": "python",
   "pygments_lexer": "ipython3",
   "version": "3.9.7"
  }
 },
 "nbformat": 4,
 "nbformat_minor": 2
}
